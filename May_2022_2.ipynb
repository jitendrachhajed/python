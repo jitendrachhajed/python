{
 "cells": [
  {
   "cell_type": "code",
   "execution_count": null,
   "metadata": {},
   "outputs": [],
   "source": [
    "graph = {\n",
    "  5 : [3,7],\n",
    "  3 : [2, 4],\n",
    "  7 : [8],\n",
    "  2 : [],\n",
    "  4 : [8],\n",
    "  8 : []\n",
    "}\n",
    "\n",
    "visited = set()\n",
    "def dfs(graph, visited, node):\n",
    "    if node not in visited:\n",
    "        visited.add(node)\n",
    "        print(node)\n",
    "        \n",
    "    for neighbour in graph[node]:\n",
    "        dfs(graph, visited, neighbour)\n",
    "        \n",
    "dfs(graph, visited, 5)"
   ]
  },
  {
   "cell_type": "code",
   "execution_count": null,
   "metadata": {},
   "outputs": [],
   "source": [
    "original_list = [1,2,3,4]\n",
    "reversed_list = []\n",
    "\n",
    "for item in original_list:\n",
    "    reversed_list = [item] + reversed_list\n",
    "print(reversed_list)"
   ]
  },
  {
   "cell_type": "code",
   "execution_count": null,
   "metadata": {},
   "outputs": [],
   "source": [
    "original_list = [1,2,3,4]\n",
    "reversed_list = []\n",
    "\n",
    "for item in original_list:\n",
    "    reversed_list.insert(0,item)\n",
    "print(reversed_list)\n"
   ]
  },
  {
   "cell_type": "code",
   "execution_count": null,
   "metadata": {},
   "outputs": [],
   "source": [
    "class Solution:\n",
    "    def middleNode(self, head):\n",
    "        slow = fast = head\n",
    "        while fast and fast.next:\n",
    "            slow = slow.next\n",
    "            fast = fast.next.next\n",
    "        return  slow\n",
    "    "
   ]
  },
  {
   "cell_type": "code",
   "execution_count": null,
   "metadata": {},
   "outputs": [],
   "source": [
    "class PowTwo:\n",
    "    def __init__(self, max = 0):\n",
    "        self.max = max\n",
    "    \n",
    "    def __iter__(self):\n",
    "        self.n = 0\n",
    "        return self\n",
    "        \n",
    "    def __next__(self):\n",
    "        if self.n <= self.max:\n",
    "            result = 2**self.n\n",
    "            self.n += 1\n",
    "            return result\n",
    "        else:\n",
    "            StopIteration\n",
    "\n",
    "numbers = PowTwo(3)\n",
    "i = iter(numbers)\n",
    "print(next(i))\n",
    "print(next(i))\n",
    "            \n",
    "        \n",
    "        \n",
    "    "
   ]
  },
  {
   "cell_type": "code",
   "execution_count": null,
   "metadata": {},
   "outputs": [],
   "source": [
    "l = 'I am here'\n",
    "count = len(l.split(' '))\n",
    "print(count)"
   ]
  },
  {
   "cell_type": "code",
   "execution_count": null,
   "metadata": {},
   "outputs": [],
   "source": [
    "fizzbuzz = [ 'fizzbuzz' if num%3==0 and num%5==0 else 'fizz' if num%3==0 else 'buzz' if num%5==0 else num for num in range(16)]\n",
    "print(fizzbuzz)"
   ]
  },
  {
   "cell_type": "code",
   "execution_count": null,
   "metadata": {},
   "outputs": [],
   "source": [
    "l1 = [1,2,3]\n",
    "l2 = [3,4,5]\n",
    "\n",
    "print(set(l1) & set(l2))\n",
    "print(set(l1) - set(l2))\n",
    "print(set(l1) | set(l2))"
   ]
  },
  {
   "cell_type": "code",
   "execution_count": null,
   "metadata": {},
   "outputs": [],
   "source": [
    "def findLocalMaximaMinima(n, arr):\n",
    "    mx = []\n",
    "    mn = []\n",
    "    \n",
    "    if arr[0] > arr[1]:\n",
    "        mx.append(0)\n",
    "    elif arr[0] < arr[1]:\n",
    "        mn.append(0)\n",
    "    \n",
    "    for i in range(1,n-1):\n",
    "        \n",
    "        if arr[i-1] > arr[i] < arr[i+1]:\n",
    "            mn.append(i)\n",
    "            \n",
    "        if arr[i-1] <arr[i] > arr[i+1]:\n",
    "            mx.append(i)\n",
    "        \n",
    "    \n",
    "    if arr[n-2] < arr[n-1]:\n",
    "        mx.append(n-1)\n",
    "    elif arr[n-2] > arr[n-1]:\n",
    "        mn.append(n-1)\n",
    "        \n",
    "    \n",
    "    if len(mx):\n",
    "        #for i in mx:\n",
    "        print(*mx)\n",
    "    \n",
    "    if len(mn):\n",
    "        for i in mn:\n",
    "            print(i)\n",
    "\n",
    "# Driver Code\n",
    "if __name__ == '__main__':\n",
    " \n",
    "    N = 9\n",
    "    # Given array arr[]\n",
    "    arr = [10, 20, 15, 14, 13, 25, 5, 4, 3]\n",
    " \n",
    "    # Function Call\n",
    "    findLocalMaximaMinima(N, arr)\n",
    "        \n",
    "    \n",
    "    "
   ]
  },
  {
   "cell_type": "code",
   "execution_count": null,
   "metadata": {},
   "outputs": [],
   "source": [
    "l = [1,2,3,4,5,6,7]\n",
    "k = 5\n",
    "\n",
    "klist = l[:5]\n",
    "klist_reversed = klist[::-1]\n",
    "l2 = l[5:7]\n",
    "reversedlst = klist_reversed+l2\n",
    "print(reversedlst)"
   ]
  },
  {
   "cell_type": "code",
   "execution_count": null,
   "metadata": {},
   "outputs": [],
   "source": [
    "def pairWithMaxSum(arr, N):\n",
    "    \n",
    "    if N < 2:\n",
    "        return -1\n",
    "    \n",
    "    result = arr[0] + arr[1]\n",
    "    \n",
    "    for i in range(1,N-1):\n",
    "        total = arr[i] + arr[i+1]\n",
    "        result = max(total, result)\n",
    "    \n",
    "    return result\n",
    "\n",
    "# Driver code\n",
    "arr = [4, 3, 1, 5, 6]\n",
    "N = len(arr)\n",
    " \n",
    "print(pairWithMaxSum(arr, N))\n",
    "        \n",
    "    \n",
    "    \n",
    "    "
   ]
  },
  {
   "cell_type": "code",
   "execution_count": 38,
   "metadata": {},
   "outputs": [
    {
     "name": "stdout",
     "output_type": "stream",
     "text": [
      "<__main__.Singleton object at 0x0000025768D0DE50>\n",
      "<__main__.Singleton object at 0x0000025768D0DE50>\n"
     ]
    }
   ],
   "source": [
    "class Singleton:\n",
    "    __instance = None\n",
    "    \n",
    "    @staticmethod\n",
    "    def getInstance():\n",
    "        if Singleton.__instance:\n",
    "            return Singleton.__instance\n",
    "        return Singleton()\n",
    "    \n",
    "    def __init__(self):\n",
    "        if Singleton.__instance:\n",
    "            raise Exception('This is singleton class')\n",
    "        else:\n",
    "            Singleton.__instance = self\n",
    "            \n",
    "\n",
    "obj = Singleton.getInstance()\n",
    "print(obj)\n",
    "obj = Singleton.getInstance()\n",
    "print(obj)"
   ]
  },
  {
   "cell_type": "code",
   "execution_count": 40,
   "metadata": {},
   "outputs": [
    {
     "name": "stdout",
     "output_type": "stream",
     "text": [
      "<__main__.Singleton object at 0x0000025768E0B6A0>\n",
      "<__main__.Singleton object at 0x0000025768E0B6A0>\n"
     ]
    }
   ],
   "source": [
    "import threading\n",
    "class Singleton:\n",
    "    __instance = None\n",
    "    __lock = threading.Lock()\n",
    "    \n",
    "    def __new__(cls):\n",
    "        if not cls.__instance:\n",
    "            with cls.__lock:\n",
    "                if not cls.__instance:\n",
    "                    cls.__instance = super().__new__(cls)\n",
    "        return cls.__instance\n",
    "\n",
    "obj = Singleton()\n",
    "print(obj)\n",
    "obj = Singleton()\n",
    "print(obj)\n",
    "                    "
   ]
  },
  {
   "cell_type": "code",
   "execution_count": null,
   "metadata": {},
   "outputs": [],
   "source": [
    "from ppretty import ppretty\n",
    "\n",
    "class ABC:\n",
    "    \n",
    "    def __init__(self, a, b):\n",
    "        self.a = a\n",
    "        self.b = b\n",
    "        \n",
    "obj = ABC(5,10)\n",
    "\n",
    "ppretty(obj)"
   ]
  },
  {
   "cell_type": "code",
   "execution_count": null,
   "metadata": {},
   "outputs": [],
   "source": [
    "lst = [1,2,3]\n",
    "\n",
    "def isOdd(n):\n",
    "    return False if n%2==0 else True\n",
    "\n",
    "mp = map(isOdd,lst)\n",
    "print(list(mp))\n",
    "\n",
    "fl = filter(isOdd,lst)\n",
    "print(list(fl))\n",
    "\n",
    "from functools import reduce\n",
    "\n",
    "def add(x,y):\n",
    "    return x+y\n",
    "rd = reduce(add,lst)\n",
    "print(rd)"
   ]
  },
  {
   "cell_type": "code",
   "execution_count": null,
   "metadata": {},
   "outputs": [],
   "source": [
    "d = {}\n",
    "lst = [1,2,3,1,2,3]\n",
    "for idx, val in enumerate(lst):\n",
    "    if val not in d:\n",
    "        d[val] = 1\n",
    "    else:\n",
    "        print(idx)\n",
    "    "
   ]
  },
  {
   "cell_type": "code",
   "execution_count": null,
   "metadata": {},
   "outputs": [],
   "source": [
    "sqr = [i*i for i in range(10)]\n",
    "print(sqr)"
   ]
  },
  {
   "cell_type": "code",
   "execution_count": null,
   "metadata": {},
   "outputs": [],
   "source": [
    "sqr = (i*i for i in range(10))\n",
    "\n",
    "while sqr:\n",
    "    print(next(sqr))"
   ]
  },
  {
   "cell_type": "code",
   "execution_count": null,
   "metadata": {},
   "outputs": [],
   "source": [
    "def square(n):\n",
    "    for i in range(n):\n",
    "        yield i*i\n",
    "\n",
    "sqr = square(10)\n",
    "print(next(sqr))"
   ]
  },
  {
   "cell_type": "code",
   "execution_count": null,
   "metadata": {},
   "outputs": [],
   "source": [
    "s = 'Helloworld'\n",
    "print(s[::-1])"
   ]
  },
  {
   "cell_type": "code",
   "execution_count": null,
   "metadata": {},
   "outputs": [],
   "source": [
    "d = {'a':1,'b':2}\n",
    "\n",
    "for k,v in d.items():\n",
    "    print(k,v)"
   ]
  },
  {
   "cell_type": "code",
   "execution_count": 2,
   "metadata": {},
   "outputs": [
    {
     "name": "stdout",
     "output_type": "stream",
     "text": [
      "5\n",
      "1\n",
      "2\n",
      "3\n"
     ]
    }
   ],
   "source": [
    "graph = {\n",
    "    5:[1,2],\n",
    "    2:[5,3],\n",
    "    1:[],\n",
    "    3:[]\n",
    "}\n",
    "\n",
    "visited = []\n",
    "queue = []\n",
    "def bfs(graph, visited, node):\n",
    "    visited.append(node)\n",
    "    queue.append(node)\n",
    "    \n",
    "    while queue:\n",
    "        m = queue.pop(0)\n",
    "        print(m)\n",
    "    \n",
    "        for neighbour in graph[m]:\n",
    "            if neighbour not in visited:\n",
    "                visited.append(neighbour)\n",
    "                queue.append(neighbour)\n",
    "            \n",
    "bfs(graph, visited, 5)\n",
    "        \n",
    "    "
   ]
  },
  {
   "cell_type": "code",
   "execution_count": 4,
   "metadata": {},
   "outputs": [
    {
     "name": "stdout",
     "output_type": "stream",
     "text": [
      "The Topological Sort Of The Graph Is:  \n",
      "[0, 1, 2, 3, 4]\n"
     ]
    }
   ],
   "source": [
    "from collections import defaultdict\n",
    "\n",
    "class Graph:\n",
    "    def __init__(self, n):\n",
    "        self.graph = defaultdict(list)\n",
    "        self.n = n\n",
    "        \n",
    "    def addEdge(self, m, n):\n",
    "        self.graph[m].append(n)\n",
    "        \n",
    "    def sortUtil(self, node, visited, stack):\n",
    "        visited[node] = True\n",
    "        \n",
    "        for neighbour in self.graph[node]:\n",
    "            if not visited[neighbour]:\n",
    "                self.sortUtil(neighbour, visited, stack)\n",
    "        stack.insert(0,node)\n",
    "    \n",
    "    def topologicalSort(self):\n",
    "        visited = [False]* self.n\n",
    "        stack = []\n",
    "        \n",
    "        for node in range(self.n):\n",
    "            if not visited[node]:\n",
    "                self.sortUtil(node,visited,stack)\n",
    "        \n",
    "        print(stack)\n",
    "\n",
    "graph = Graph(5)\n",
    "graph.addEdge(0,1);\n",
    "graph.addEdge(0,3);\n",
    "graph.addEdge(1,2);\n",
    "graph.addEdge(2,3);\n",
    "graph.addEdge(2,4);\n",
    "graph.addEdge(3,4);\n",
    "\n",
    "print(\"The Topological Sort Of The Graph Is:  \")\n",
    "\n",
    "graph.topologicalSort()        "
   ]
  },
  {
   "cell_type": "code",
   "execution_count": 5,
   "metadata": {},
   "outputs": [
    {
     "name": "stdout",
     "output_type": "stream",
     "text": [
      "defaultdict(<class 'list'>, {})\n"
     ]
    }
   ],
   "source": [
    "d = defaultdict(list)\n",
    "print(d)"
   ]
  },
  {
   "cell_type": "code",
   "execution_count": 9,
   "metadata": {},
   "outputs": [
    {
     "name": "stdout",
     "output_type": "stream",
     "text": [
      "9 4\n",
      "9 7\n",
      "9 8\n",
      "[[1, 9], [10, 11]]\n"
     ]
    }
   ],
   "source": [
    "def merge(intervals):\n",
    "    intervals.sort(key= lambda x: x[0])\n",
    "    \n",
    "    merged = []\n",
    "    \n",
    "    for interval in intervals:\n",
    "        if not merged or merged[-1][1] < interval[0]:\n",
    "            merged.append(interval)\n",
    "        else:\n",
    "            print(merged[-1][1],interval[1])\n",
    "            merged[-1][1] = max(merged[-1][1], interval[1])\n",
    "    \n",
    "    \n",
    "    return merged\n",
    "\n",
    "# Driver code\n",
    "arr = [[6, 8], [1, 9], [2, 4], [4, 7],[10,11]]\n",
    "print(merge(arr))\n",
    "        \n",
    "    "
   ]
  },
  {
   "cell_type": "code",
   "execution_count": 10,
   "metadata": {},
   "outputs": [],
   "source": [
    "def max_profit(stock_prices):\n",
    "    if len(stock_prices) < 2:\n",
    "        raise ValueError('Need at least 2 stock prices')\n",
    "        \n",
    "    min_price = stock_prices[0]\n",
    "    max_profit = stock_prices[1]- stock_prices[0]\n",
    "    \n",
    "    for curr in range(1, len(stock_prices)):\n",
    "        price = stock_prices[curr]\n",
    "        profit = price - min_price\n",
    "        max_profit = max(profit, max_profit)\n",
    "        min_price = min(price, min_price)\n",
    "    return max_profit"
   ]
  },
  {
   "cell_type": "code",
   "execution_count": 12,
   "metadata": {},
   "outputs": [
    {
     "name": "stdout",
     "output_type": "stream",
     "text": [
      "Jitendra18\n"
     ]
    }
   ],
   "source": [
    "def isAdult( name: str, age: int ) ->bool:\n",
    "    if name and age:\n",
    "        return name+age\n",
    "    \n",
    "print(isAdult('Jitendra', '18'))\n",
    "    \n",
    "    "
   ]
  },
  {
   "cell_type": "code",
   "execution_count": 14,
   "metadata": {},
   "outputs": [
    {
     "name": "stdout",
     "output_type": "stream",
     "text": [
      "Tree is not balanced\n"
     ]
    }
   ],
   "source": [
    "class Node:\n",
    "    def __init__(self, data):\n",
    "        self.left = self.right = None\n",
    "        self.data = data\n",
    "    \n",
    "def height(root):\n",
    "    if not root:\n",
    "        return 0\n",
    "    return max(height(root.left),height(root.right)) +1 \n",
    "\n",
    "def isBalanced(root):\n",
    "    if not root:\n",
    "        return True\n",
    "\n",
    "    lh = height(root.left)\n",
    "    rh = height(root.right)\n",
    "\n",
    "    if(abs(lh-rh) <= 1) and isBalanced(root.left) and isBalanced(root.right):\n",
    "        return True\n",
    "\n",
    "    return False\n",
    "    \n",
    "root = Node(1)\n",
    "root.left = Node(2)\n",
    "root.right = Node(3)\n",
    "root.left.left = Node(4)\n",
    "root.left.right = Node(5)\n",
    "root.left.left.left = Node(8)\n",
    "if isBalanced(root):\n",
    "    print(\"Tree is balanced\")\n",
    "else:\n",
    "    print(\"Tree is not balanced\")     \n",
    "        \n",
    "        \n",
    "    \n",
    "    "
   ]
  },
  {
   "cell_type": "code",
   "execution_count": 17,
   "metadata": {},
   "outputs": [
    {
     "name": "stdout",
     "output_type": "stream",
     "text": [
      "123\n"
     ]
    },
    {
     "ename": "AttributeError",
     "evalue": "'Car' object has no attribute 'engine'",
     "output_type": "error",
     "traceback": [
      "\u001b[1;31m---------------------------------------------------------------------------\u001b[0m",
      "\u001b[1;31mAttributeError\u001b[0m                            Traceback (most recent call last)",
      "\u001b[1;32m<ipython-input-17-c73b7d0eebf7>\u001b[0m in \u001b[0;36m<module>\u001b[1;34m\u001b[0m\n\u001b[0;32m      6\u001b[0m \u001b[0mcar\u001b[0m\u001b[1;33m.\u001b[0m\u001b[0mmake\u001b[0m \u001b[1;33m=\u001b[0m \u001b[1;34m'123'\u001b[0m\u001b[1;33m\u001b[0m\u001b[1;33m\u001b[0m\u001b[0m\n\u001b[0;32m      7\u001b[0m \u001b[0mprint\u001b[0m\u001b[1;33m(\u001b[0m\u001b[0mcar\u001b[0m\u001b[1;33m.\u001b[0m\u001b[0mmake\u001b[0m\u001b[1;33m)\u001b[0m\u001b[1;33m\u001b[0m\u001b[1;33m\u001b[0m\u001b[0m\n\u001b[1;32m----> 8\u001b[1;33m \u001b[0mcar\u001b[0m\u001b[1;33m.\u001b[0m\u001b[0mengine\u001b[0m \u001b[1;33m=\u001b[0m \u001b[1;34m'yes'\u001b[0m\u001b[1;33m\u001b[0m\u001b[1;33m\u001b[0m\u001b[0m\n\u001b[0m",
      "\u001b[1;31mAttributeError\u001b[0m: 'Car' object has no attribute 'engine'"
     ]
    }
   ],
   "source": [
    "class Car:\n",
    "    __slots__ = ['make','model']\n",
    "    \n",
    "    \n",
    "car = Car()\n",
    "car.make = '123'\n",
    "print(car.make)\n",
    "car.engine = 'yes'"
   ]
  },
  {
   "cell_type": "code",
   "execution_count": 19,
   "metadata": {},
   "outputs": [
    {
     "name": "stdout",
     "output_type": "stream",
     "text": [
      "Person(name='1', age=2)\n"
     ]
    }
   ],
   "source": [
    "from dataclasses import dataclass\n",
    "\n",
    "@dataclass\n",
    "class Person:\n",
    "    name : str\n",
    "    age: int\n",
    "\n",
    "p = Person('1', 2)\n",
    "print(p)"
   ]
  },
  {
   "cell_type": "code",
   "execution_count": 27,
   "metadata": {},
   "outputs": [
    {
     "name": "stdout",
     "output_type": "stream",
     "text": [
      "start of dec\n",
      "main\n",
      "end of dec\n"
     ]
    }
   ],
   "source": [
    "def decorator(func):\n",
    "    print('start of dec')\n",
    "    func()\n",
    "    print('end of dec')\n",
    "    \n",
    "@decorator\n",
    "def caller():\n",
    "     print('main')\n",
    "\n"
   ]
  },
  {
   "cell_type": "code",
   "execution_count": 28,
   "metadata": {},
   "outputs": [
    {
     "name": "stdout",
     "output_type": "stream",
     "text": [
      "3\n",
      "[1, 2]\n"
     ]
    }
   ],
   "source": [
    "lst = [1,2,3]\n",
    "print(lst.pop())\n",
    "print(lst)"
   ]
  },
  {
   "cell_type": "code",
   "execution_count": 30,
   "metadata": {},
   "outputs": [
    {
     "name": "stdout",
     "output_type": "stream",
     "text": [
      "[3, 4, 5]\n"
     ]
    }
   ],
   "source": [
    "lst = [1,2,3,1,2,3]\n",
    "\n",
    "result = [ idx for idx, val in enumerate(lst) if val in lst[:idx]]\n",
    "print(result)"
   ]
  },
  {
   "cell_type": "code",
   "execution_count": 32,
   "metadata": {},
   "outputs": [
    {
     "name": "stdout",
     "output_type": "stream",
     "text": [
      "Graph has a cycle\n"
     ]
    }
   ],
   "source": [
    "# Python program to detect cycle\n",
    "# in a graph\n",
    "from collections import defaultdict\n",
    "\n",
    "class Graph:\n",
    "    def __init__(self, n):\n",
    "        self.graph = defaultdict(list)\n",
    "        self.n = n\n",
    "        \n",
    "    def addEdge(self, m, n):\n",
    "        self.graph[m].append(n)\n",
    "        \n",
    "    def isCyclicUtil(self, node, visited, stack):\n",
    "        visited[node] = True\n",
    "        stack[node] = True\n",
    "        \n",
    "        for neighbour in self.graph[node]:\n",
    "            if not visited[neighbour]:\n",
    "                if self.isCyclicUtil(neighbour, visited, stack):\n",
    "                    return True\n",
    "            elif stack[neighbour]:\n",
    "                return True\n",
    "        stack[node] = False\n",
    "        return False\n",
    "    \n",
    "    def isCyclic(self):\n",
    "        visited = [False]* (self.n+1)\n",
    "        stack = [False]*(self.n +1)\n",
    "        \n",
    "        for node in range(self.n):\n",
    "            if not visited[node]:\n",
    "                if self.isCyclicUtil(node,visited,stack):\n",
    "                    return True\n",
    "        return False\n",
    "        #print(stack)\n",
    "\n",
    "g = Graph(4)\n",
    "g.addEdge(0, 1)\n",
    "g.addEdge(0, 2)\n",
    "g.addEdge(1, 2)\n",
    "g.addEdge(2, 0)\n",
    "g.addEdge(2, 3)\n",
    "g.addEdge(3, 3)\n",
    "if g.isCyclic() == 1:\n",
    "    print (\"Graph has a cycle\")\n",
    "else:\n",
    "    print (\"Graph has no cycle\")"
   ]
  },
  {
   "cell_type": "code",
   "execution_count": 35,
   "metadata": {},
   "outputs": [
    {
     "name": "stdout",
     "output_type": "stream",
     "text": [
      "Graph contains cycle\n",
      "Graph does not contain cycle \n"
     ]
    }
   ],
   "source": [
    "# Python Program to detect cycle in an undirected graph\n",
    "from collections import defaultdict\n",
    "\n",
    "class Graph:\n",
    "    def __init__(self, n):\n",
    "        self.graph = defaultdict(list)\n",
    "        self.n = n\n",
    "        \n",
    "    def addEdge(self, m, n):\n",
    "        self.graph[m].append(n)\n",
    "        self.graph[n].append(m)\n",
    "        \n",
    "    def isCyclicUtil(self, node, visited, parent):\n",
    "        visited[node] = True\n",
    "        \n",
    "        for neighbour in self.graph[node]:\n",
    "            if not visited[neighbour]:\n",
    "                if self.isCyclicUtil(neighbour, visited, node):\n",
    "                    return True\n",
    "            elif parent != neighbour:\n",
    "                return True\n",
    "        return False\n",
    "    \n",
    "    def isCyclic(self):\n",
    "        visited = [False]* (self.n)\n",
    "        \n",
    "        for node in range(self.n):\n",
    "            if not visited[node]:\n",
    "                if self.isCyclicUtil(node,visited,-1):\n",
    "                    return True\n",
    "        return False\n",
    "        #print(stack)\n",
    "\n",
    "# Create a graph given in the above diagram\n",
    "g = Graph(5)\n",
    "g.addEdge(1, 0)\n",
    "g.addEdge(1, 2)\n",
    "g.addEdge(2, 0)\n",
    "g.addEdge(0, 3)\n",
    "g.addEdge(3, 4)\n",
    " \n",
    "if g.isCyclic():\n",
    "    print (\"Graph contains cycle\")\n",
    "else :\n",
    "    print (\"Graph does not contain cycle \")\n",
    "g1 = Graph(3)\n",
    "g1.addEdge(0,1)\n",
    "g1.addEdge(1,2)\n",
    " \n",
    " \n",
    "if g1.isCyclic():\n",
    "    print (\"Graph contains cycle\")\n",
    "else :\n",
    "    print (\"Graph does not contain cycle \")"
   ]
  },
  {
   "cell_type": "code",
   "execution_count": 36,
   "metadata": {},
   "outputs": [
    {
     "name": "stdout",
     "output_type": "stream",
     "text": [
      "g \n",
      "g \n",
      "g \n",
      "g \n",
      "g \n",
      "120\n"
     ]
    }
   ],
   "source": [
    "def memoize_factorial(f):\n",
    "\tmemory = {}\n",
    "\tdef inner(num):\n",
    "\t\tif num not in memory:\t \n",
    "\t\t\tprint(\"g \")\n",
    "\t\t\tmemory[num] = f(num)\n",
    "\t\treturn memory[num]\n",
    "\treturn inner\n",
    "\t\n",
    "@memoize_factorial\n",
    "def calculate_factorial(num):\n",
    "\tif num == 1:\n",
    "\t\treturn 1\n",
    "\telse:\n",
    "\t\treturn num * calculate_factorial(num-1)\n",
    "\n",
    "print(calculate_factorial(5))"
   ]
  },
  {
   "cell_type": "code",
   "execution_count": null,
   "metadata": {},
   "outputs": [],
   "source": []
  }
 ],
 "metadata": {
  "kernelspec": {
   "display_name": "Python 3",
   "language": "python",
   "name": "python3"
  },
  "language_info": {
   "codemirror_mode": {
    "name": "ipython",
    "version": 3
   },
   "file_extension": ".py",
   "mimetype": "text/x-python",
   "name": "python",
   "nbconvert_exporter": "python",
   "pygments_lexer": "ipython3",
   "version": "3.8.5"
  }
 },
 "nbformat": 4,
 "nbformat_minor": 4
}
